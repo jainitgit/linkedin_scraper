{
 "cells": [
  {
   "cell_type": "code",
   "execution_count": 2,
   "id": "9d712277-e5ae-49d3-ab08-ab2ad6753385",
   "metadata": {},
   "outputs": [
    {
     "name": "stderr",
     "output_type": "stream",
     "text": [
      "Cache folder (C:\\Users\\Jainit\\.cache\\selenium) cannot be created: Cannot create a file when that file already exists. (os error 183)\n",
      "Cache folder (C:\\Users\\Jainit\\.cache\\selenium) cannot be created: Cannot create a file when that file already exists. (os error 183)\n",
      "Cache folder (C:\\Users\\Jainit\\.cache\\selenium) cannot be created: Cannot create a file when that file already exists. (os error 183)\n"
     ]
    },
    {
     "name": "stdout",
     "output_type": "stream",
     "text": [
      "Total job cards found: 121\n",
      "Scraped 50 jobs. Files saved.\n"
     ]
    }
   ],
   "source": [
    "from selenium import webdriver\n",
    "from selenium.webdriver.chrome.options import Options\n",
    "from selenium.webdriver.common.by import By\n",
    "from selenium.webdriver.support.ui import WebDriverWait\n",
    "from selenium.webdriver.support import expected_conditions as EC\n",
    "import time\n",
    "import json\n",
    "import pandas as pd\n",
    "\n",
    "def scroll_page(driver, scroll_times=10, delay=2):\n",
    "    for _ in range(scroll_times):\n",
    "        driver.execute_script(\"window.scrollTo(0, document.body.scrollHeight);\")\n",
    "        time.sleep(delay)\n",
    "\n",
    "options = Options()\n",
    "options.add_argument(\"--headless=new\")\n",
    "driver = webdriver.Chrome(options=options)\n",
    "\n",
    "driver.get(\"https://www.linkedin.com/jobs/search/?keywords=&location=Bhubaneswar\")\n",
    "WebDriverWait(driver, 10).until(EC.presence_of_element_located((By.CLASS_NAME, 'base-card')))\n",
    "scroll_page(driver, scroll_times=10, delay=2)\n",
    "\n",
    "jobs = driver.find_elements(By.CLASS_NAME, 'base-card')\n",
    "print(f\"Total job cards found: {len(jobs)}\")\n",
    "\n",
    "jobs_data = []\n",
    "\n",
    "for idx, job in enumerate(jobs[:50]):\n",
    "    try:\n",
    "        driver.execute_script(\"arguments[0].scrollIntoView(true);\", job)\n",
    "        time.sleep(0.5)  # allow time for content to load\n",
    "\n",
    "        title = job.find_element(By.CLASS_NAME, 'base-search-card__title').text.strip()\n",
    "        company = job.find_element(By.CLASS_NAME, 'base-search-card__subtitle').text.strip()\n",
    "        location = job.find_element(By.CLASS_NAME, 'job-search-card__location').text.strip()\n",
    "        link = job.find_element(By.TAG_NAME, 'a').get_attribute('href')\n",
    "        try:\n",
    "            posted = job.find_element(By.CLASS_NAME, 'job-search-card__listdate').text.strip()\n",
    "        except:\n",
    "            posted = \"N/A\"\n",
    "\n",
    "        jobs_data.append({\n",
    "            \"Title\": title,\n",
    "            \"Company\": company,\n",
    "            \"Location\": location,\n",
    "            \"Link\": link,\n",
    "            \"Posted\": posted\n",
    "        })\n",
    "    except Exception as e:\n",
    "        print(f\"Job {idx+1}: Skipped due to error: {e}\")\n",
    "\n",
    "driver.quit()\n",
    "\n",
    "with open('jobs_bhubaneswar2.json', 'w') as f:\n",
    "    json.dump(jobs_data, f, indent=2)\n",
    "\n",
    "pd.DataFrame(jobs_data).to_csv('jobs_bhubaneswar2.csv', index=False)\n",
    "\n",
    "print(f\"Scraped {len(jobs_data)} jobs. Files saved.\")\n",
    "\n"
   ]
  },
  {
   "cell_type": "code",
   "execution_count": null,
   "id": "4a12e080-9df7-481b-908f-a4d3c889e50b",
   "metadata": {},
   "outputs": [],
   "source": []
  }
 ],
 "metadata": {
  "kernelspec": {
   "display_name": "Python 3 (ipykernel)",
   "language": "python",
   "name": "python3"
  },
  "language_info": {
   "codemirror_mode": {
    "name": "ipython",
    "version": 3
   },
   "file_extension": ".py",
   "mimetype": "text/x-python",
   "name": "python",
   "nbconvert_exporter": "python",
   "pygments_lexer": "ipython3",
   "version": "3.11.7"
  }
 },
 "nbformat": 4,
 "nbformat_minor": 5
}
